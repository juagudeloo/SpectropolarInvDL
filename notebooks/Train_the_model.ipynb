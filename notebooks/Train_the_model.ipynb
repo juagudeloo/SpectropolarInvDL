{
 "cells": [
  {
   "cell_type": "markdown",
   "id": "a8aa388a-3153-4b7a-b0e0-caff0afb2bb9",
   "metadata": {},
   "source": [
    "# Training a neural network model"
   ]
  },
  {
   "cell_type": "markdown",
   "id": "34e8b6b3-4b1f-45d0-8c14-1fe3574251c3",
   "metadata": {},
   "source": [
    "## 1. Importing necessary libraries"
   ]
  },
  {
   "cell_type": "markdown",
   "id": "496c81c8-68c1-4115-9bd3-acd2ce85061e",
   "metadata": {},
   "source": [
    "First, we will import the necessary libraries from python to define our neural network models and other small processes."
   ]
  },
  {
   "cell_type": "code",
   "execution_count": 1,
   "id": "aac13c9e-e7f8-4dd0-a838-d3c4112432a6",
   "metadata": {},
   "outputs": [],
   "source": [
    "import os\n",
    "from pathlib import Path\n",
    "import sys\n",
    "\n",
    "import time\n",
    "from timeit import default_timer as timer \n",
    "\n",
    "import torch\n",
    "from torch import nn\n",
    "from torch.utils.data import TensorDataset, DataLoader\n",
    "\n",
    "import numpy as np\n",
    "\n",
    "from tqdm import tqdm\n"
   ]
  },
  {
   "cell_type": "markdown",
   "id": "fe78eef3-e7f1-4821-af29-db9dd0344c69",
   "metadata": {},
   "source": [
    "Second, we will import a module that defines a class which will help us to upload the atmosphere quantities and the stokes parameters just as it was done in the notebook about [Charging the data](./Charging_the_data.ipynb])."
   ]
  },
  {
   "cell_type": "code",
   "execution_count": null,
   "id": "b5051baa-cf90-4248-8e07-5730f629d106",
   "metadata": {},
   "outputs": [],
   "source": [
    "sys.path.append(\"./modules\")"
   ]
  }
 ],
 "metadata": {
  "kernelspec": {
   "display_name": "Python 3 (ipykernel)",
   "language": "python",
   "name": "python3"
  },
  "language_info": {
   "codemirror_mode": {
    "name": "ipython",
    "version": 3
   },
   "file_extension": ".py",
   "mimetype": "text/x-python",
   "name": "python",
   "nbconvert_exporter": "python",
   "pygments_lexer": "ipython3",
   "version": "3.12.7"
  }
 },
 "nbformat": 4,
 "nbformat_minor": 5
}
