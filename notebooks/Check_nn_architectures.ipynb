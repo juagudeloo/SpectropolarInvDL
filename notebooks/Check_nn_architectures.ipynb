{
 "cells": [
  {
   "cell_type": "code",
   "execution_count": 1,
   "metadata": {},
   "outputs": [],
   "source": [
    "from torchinfo import summary\n",
    "import torch\n",
    "from torch import nn"
   ]
  },
  {
   "cell_type": "code",
   "execution_count": 26,
   "metadata": {},
   "outputs": [],
   "source": [
    "class SimpleCNN1DModel(nn.Module):\n",
    "    def __init__(self, in_shape, out_shape, hidden_units):\n",
    "        super().__init__()\n",
    "        self.name = \"SimpleCNN1D\"\n",
    "        padding = 1\n",
    "        self.simple_conv = nn.Sequential(\n",
    "        nn.Conv1d(in_channels=in_shape, out_channels=hidden_units, kernel_size = 2, stride=1, padding=padding),\n",
    "        nn.ReLU(),\n",
    "        nn.Flatten(),\n",
    "        nn.Dropout(p=0.5, inplace=False),\n",
    "        nn.Linear(in_features = hidden_units*5, out_features = out_shape)\n",
    "        )\n",
    "    def forward(self, x):\n",
    "        return self.simple_conv(x)"
   ]
  },
  {
   "cell_type": "code",
   "execution_count": 27,
   "metadata": {},
   "outputs": [
    {
     "data": {
      "text/plain": [
       "SimpleCNN1DModel(\n",
       "  (simple_conv): Sequential(\n",
       "    (0): Conv1d(36, 1024, kernel_size=(2,), stride=(1,), padding=(1,))\n",
       "    (1): ReLU()\n",
       "    (2): Flatten(start_dim=1, end_dim=-1)\n",
       "    (3): Dropout(p=0.5, inplace=False)\n",
       "    (4): Linear(in_features=5120, out_features=120, bias=True)\n",
       "  )\n",
       ")"
      ]
     },
     "execution_count": 27,
     "metadata": {},
     "output_type": "execute_result"
    }
   ],
   "source": [
    "simple_1dcnn = SimpleCNN1DModel(36,6*20,hidden_units=1024).float()\n",
    "simple_1dcnn"
   ]
  },
  {
   "cell_type": "code",
   "execution_count": 28,
   "metadata": {},
   "outputs": [
    {
     "name": "stdout",
     "output_type": "stream",
     "text": [
      "========================================================================================================\n",
      "Layer (type (var_name))                  Kernel Shape     Output Shape     Param #          Mult-Adds\n",
      "========================================================================================================\n",
      "SimpleCNN1DModel (SimpleCNN1DModel)      --               [1, 120]         --               --\n",
      "├─Sequential (simple_conv)               --               [1, 120]         --               --\n",
      "│    └─0.weight                          [1024, 36, 2]                     ├─73,728\n",
      "│    └─0.bias                            [1024]                            ├─1,024\n",
      "│    └─4.weight                          [120, 5120]                       ├─614,400\n",
      "│    └─4.bias                            [120]                             └─120\n",
      "│    └─Conv1d (0)                        [2]              [1, 1024, 5]     74,752           373,760\n",
      "│    │    └─weight                       [36, 1024, 2]                     ├─73,728\n",
      "│    │    └─bias                         [1024]                            └─1,024\n",
      "│    └─ReLU (1)                          --               [1, 1024, 5]     --               --\n",
      "│    └─Flatten (2)                       --               [1, 5120]        --               --\n",
      "│    └─Dropout (3)                       --               [1, 5120]        --               --\n",
      "│    └─Linear (4)                        --               [1, 120]         614,520          614,520\n",
      "│    │    └─weight                       [5120, 120]                       ├─614,400\n",
      "│    │    └─bias                         [120]                             └─120\n",
      "========================================================================================================\n",
      "Total params: 689,272\n",
      "Trainable params: 689,272\n",
      "Non-trainable params: 0\n",
      "Total mult-adds (Units.MEGABYTES): 0.99\n",
      "========================================================================================================\n",
      "Input size (MB): 0.00\n",
      "Forward/backward pass size (MB): 0.04\n",
      "Params size (MB): 2.76\n",
      "Estimated Total Size (MB): 2.80\n",
      "========================================================================================================\n",
      "========================================================================================================\n",
      "Layer (type (var_name))                  Kernel Shape     Output Shape     Param #          Mult-Adds\n",
      "========================================================================================================\n",
      "SimpleCNN1DModel (SimpleCNN1DModel)      --               [1, 120]         --               --\n",
      "├─Sequential (simple_conv)               --               [1, 120]         --               --\n",
      "│    └─0.weight                          [1024, 36, 2]                     ├─73,728\n",
      "│    └─0.bias                            [1024]                            ├─1,024\n",
      "│    └─4.weight                          [120, 5120]                       ├─614,400\n",
      "│    └─4.bias                            [120]                             └─120\n",
      "│    └─Conv1d (0)                        [2]              [1, 1024, 5]     74,752           373,760\n",
      "│    │    └─weight                       [36, 1024, 2]                     ├─73,728\n",
      "│    │    └─bias                         [1024]                            └─1,024\n",
      "│    └─ReLU (1)                          --               [1, 1024, 5]     --               --\n",
      "│    └─Flatten (2)                       --               [1, 5120]        --               --\n",
      "│    └─Dropout (3)                       --               [1, 5120]        --               --\n",
      "│    └─Linear (4)                        --               [1, 120]         614,520          614,520\n",
      "│    │    └─weight                       [5120, 120]                       ├─614,400\n",
      "│    │    └─bias                         [120]                             └─120\n",
      "========================================================================================================\n",
      "Total params: 689,272\n",
      "Trainable params: 689,272\n",
      "Non-trainable params: 0\n",
      "Total mult-adds (Units.MEGABYTES): 0.99\n",
      "========================================================================================================\n",
      "Input size (MB): 0.00\n",
      "Forward/backward pass size (MB): 0.04\n",
      "Params size (MB): 2.76\n",
      "Estimated Total Size (MB): 2.80\n",
      "========================================================================================================\n"
     ]
    }
   ],
   "source": [
    "print(summary(model = simple_1dcnn,\n",
    "        input_size=(1,36,4),\n",
    "        dtypes=[torch.float],\n",
    "        verbose=2,\n",
    "        col_width=16,\n",
    "        col_names=[\"kernel_size\", \"output_size\", \"num_params\", \"mult_adds\"],\n",
    "        row_settings=[\"var_names\"],\n",
    "        ))"
   ]
  }
 ],
 "metadata": {
  "kernelspec": {
   "display_name": "base",
   "language": "python",
   "name": "python3"
  },
  "language_info": {
   "codemirror_mode": {
    "name": "ipython",
    "version": 3
   },
   "file_extension": ".py",
   "mimetype": "text/x-python",
   "name": "python",
   "nbconvert_exporter": "python",
   "pygments_lexer": "ipython3",
   "version": "3.11.8"
  }
 },
 "nbformat": 4,
 "nbformat_minor": 2
}
