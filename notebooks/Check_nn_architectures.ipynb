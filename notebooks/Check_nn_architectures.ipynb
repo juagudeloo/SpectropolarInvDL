{
 "cells": [
  {
   "cell_type": "code",
   "execution_count": 1,
   "metadata": {},
   "outputs": [],
   "source": [
    "from torchinfo import summary\n",
    "import torch\n",
    "from torch import nn"
   ]
  },
  {
   "cell_type": "code",
   "execution_count": null,
   "metadata": {},
   "outputs": [],
   "source": [
    "class CNN1DModel(nn.Module):\n",
    "    def __init__(self, in_shape: int, out_shape: int, hidden_units: int, signal_length: int):\n",
    "        super().__init__()\n",
    "        self.name = \"SimpleCNN1D\"\n",
    "        \n",
    "        #Hyperparameters\n",
    "        padding = 1\n",
    "        kernel_size = 2\n",
    "        stride = 1\n",
    "        conv_out_size = int((signal_length+2*padding-kernel_size)/stride + 1)\n",
    "        \n",
    "        #Model\n",
    "        self.simple_conv = nn.Sequential(\n",
    "        nn.Conv1d(in_channels=in_shape, out_channels=hidden_units, kernel_size = kernel_size, stride=stride, padding=padding),\n",
    "        nn.ReLU(),\n",
    "        nn.Conv1d(in_channels=hidden_units, out_channels=hidden_units*2, kernel_size = kernel_size, stride=stride, padding=padding),\n",
    "        nn.ReLU(),\n",
    "        nn.Conv1d(in_channels=hidden_units*2, out_channels=hidden_units*4, kernel_size = kernel_size, stride=stride, padding=padding),\n",
    "        nn.ReLU(),\n",
    "        nn.Conv1d(in_channels=hidden_units*4, out_channels=hidden_units*8, kernel_size = kernel_size, stride=stride, padding=padding),\n",
    "        nn.ReLU(),\n",
    "        nn.Flatten(),\n",
    "        nn.Dropout(p=0.5, inplace=False),\n",
    "        nn.Linear(in_features = (hidden_units*8)*conv_out_size, out_features = out_shape)\n",
    "        )\n",
    "    def forward(self, x):\n",
    "        return self.simple_conv(x)"
   ]
  },
  {
   "cell_type": "code",
   "execution_count": null,
   "metadata": {},
   "outputs": [
    {
     "data": {
      "text/plain": [
       "SimpleCNN1DModel(\n",
       "  (simple_conv): Sequential(\n",
       "    (0): Conv1d(4, 72, kernel_size=(2,), stride=(1,), padding=(1,))\n",
       "    (1): ReLU()\n",
       "    (2): Flatten(start_dim=1, end_dim=-1)\n",
       "    (3): Dropout(p=0.5, inplace=False)\n",
       "    (4): Linear(in_features=2664, out_features=120, bias=True)\n",
       "  )\n",
       ")"
      ]
     },
     "execution_count": 17,
     "metadata": {},
     "output_type": "execute_result"
    }
   ],
   "source": [
    "simple_1dcnn = CNN1DModel(4,6*20,hidden_units=72,signal_length = 36).float()\n",
    "simple_1dcnn"
   ]
  },
  {
   "cell_type": "code",
   "execution_count": 18,
   "metadata": {},
   "outputs": [
    {
     "name": "stdout",
     "output_type": "stream",
     "text": [
      "========================================================================================================\n",
      "Layer (type (var_name))                  Kernel Shape     Output Shape     Param #          Mult-Adds\n",
      "========================================================================================================\n",
      "SimpleCNN1DModel (SimpleCNN1DModel)      --               [1, 120]         --               --\n",
      "├─Sequential (simple_conv)               --               [1, 120]         --               --\n",
      "│    └─0.weight                          [72, 4, 2]                        ├─576\n",
      "│    └─0.bias                            [72]                              ├─72\n",
      "│    └─4.weight                          [120, 2664]                       ├─319,680\n",
      "│    └─4.bias                            [120]                             └─120\n",
      "│    └─Conv1d (0)                        [2]              [1, 72, 37]      648              23,976\n",
      "│    │    └─weight                       [4, 72, 2]                        ├─576\n",
      "│    │    └─bias                         [72]                              └─72\n",
      "│    └─ReLU (1)                          --               [1, 72, 37]      --               --\n",
      "│    └─Flatten (2)                       --               [1, 2664]        --               --\n",
      "│    └─Dropout (3)                       --               [1, 2664]        --               --\n",
      "│    └─Linear (4)                        --               [1, 120]         319,800          319,800\n",
      "│    │    └─weight                       [2664, 120]                       ├─319,680\n",
      "│    │    └─bias                         [120]                             └─120\n",
      "========================================================================================================\n",
      "Total params: 320,448\n",
      "Trainable params: 320,448\n",
      "Non-trainable params: 0\n",
      "Total mult-adds (Units.MEGABYTES): 0.34\n",
      "========================================================================================================\n",
      "Input size (MB): 0.00\n",
      "Forward/backward pass size (MB): 0.02\n",
      "Params size (MB): 1.28\n",
      "Estimated Total Size (MB): 1.30\n",
      "========================================================================================================\n",
      "========================================================================================================\n",
      "Layer (type (var_name))                  Kernel Shape     Output Shape     Param #          Mult-Adds\n",
      "========================================================================================================\n",
      "SimpleCNN1DModel (SimpleCNN1DModel)      --               [1, 120]         --               --\n",
      "├─Sequential (simple_conv)               --               [1, 120]         --               --\n",
      "│    └─0.weight                          [72, 4, 2]                        ├─576\n",
      "│    └─0.bias                            [72]                              ├─72\n",
      "│    └─4.weight                          [120, 2664]                       ├─319,680\n",
      "│    └─4.bias                            [120]                             └─120\n",
      "│    └─Conv1d (0)                        [2]              [1, 72, 37]      648              23,976\n",
      "│    │    └─weight                       [4, 72, 2]                        ├─576\n",
      "│    │    └─bias                         [72]                              └─72\n",
      "│    └─ReLU (1)                          --               [1, 72, 37]      --               --\n",
      "│    └─Flatten (2)                       --               [1, 2664]        --               --\n",
      "│    └─Dropout (3)                       --               [1, 2664]        --               --\n",
      "│    └─Linear (4)                        --               [1, 120]         319,800          319,800\n",
      "│    │    └─weight                       [2664, 120]                       ├─319,680\n",
      "│    │    └─bias                         [120]                             └─120\n",
      "========================================================================================================\n",
      "Total params: 320,448\n",
      "Trainable params: 320,448\n",
      "Non-trainable params: 0\n",
      "Total mult-adds (Units.MEGABYTES): 0.34\n",
      "========================================================================================================\n",
      "Input size (MB): 0.00\n",
      "Forward/backward pass size (MB): 0.02\n",
      "Params size (MB): 1.28\n",
      "Estimated Total Size (MB): 1.30\n",
      "========================================================================================================\n"
     ]
    }
   ],
   "source": [
    "print(summary(model = simple_1dcnn,\n",
    "        input_size=(1,4,36),\n",
    "        dtypes=[torch.float],\n",
    "        verbose=2,\n",
    "        col_width=16,\n",
    "        col_names=[\"kernel_size\", \"output_size\", \"num_params\", \"mult_adds\"],\n",
    "        row_settings=[\"var_names\"],\n",
    "        ))"
   ]
  }
 ],
 "metadata": {
  "kernelspec": {
   "display_name": "machine_learning",
   "language": "python",
   "name": "python3"
  },
  "language_info": {
   "codemirror_mode": {
    "name": "ipython",
    "version": 3
   },
   "file_extension": ".py",
   "mimetype": "text/x-python",
   "name": "python",
   "nbconvert_exporter": "python",
   "pygments_lexer": "ipython3",
   "version": "3.13.1"
  }
 },
 "nbformat": 4,
 "nbformat_minor": 2
}
