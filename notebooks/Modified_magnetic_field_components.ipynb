{
 "cells": [
  {
   "cell_type": "code",
   "execution_count": 14,
   "id": "d23676de-0e5d-4be9-a3a6-1a12a820d5e4",
   "metadata": {
    "scrolled": true
   },
   "outputs": [
    {
     "name": "stdout",
     "output_type": "stream",
     "text": [
      "Squared Equation 1:\n"
     ]
    },
    {
     "data": {
      "text/latex": [
       "$\\displaystyle B_{Q}^{2} = B_{x}^{2} - B_{y}^{2}$"
      ],
      "text/plain": [
       "Eq(B_Q**2, B_x**2 - B_y**2)"
      ]
     },
     "metadata": {},
     "output_type": "display_data"
    },
    {
     "name": "stdout",
     "output_type": "stream",
     "text": [
      "Squared Equation 2:\n"
     ]
    },
    {
     "data": {
      "text/latex": [
       "$\\displaystyle B_{U}^{2} = B_{x} B_{y}$"
      ],
      "text/plain": [
       "Eq(B_U**2, B_x*B_y)"
      ]
     },
     "metadata": {},
     "output_type": "display_data"
    },
    {
     "name": "stdout",
     "output_type": "stream",
     "text": [
      "\n",
      "Solutions:\n"
     ]
    },
    {
     "data": {
      "text/plain": [
       "{B_x: -sqrt(-B_Q**2/2 - sqrt(B_Q**4 + 4*B_U**4)/2)*(B_Q**2/2 - sqrt(B_Q**4 + 4*B_U**4)/2)/B_U**2,\n",
       " B_y: -sqrt(-B_Q**2/2 - sqrt(B_Q**4 + 4*B_U**4)/2)}"
      ]
     },
     "metadata": {},
     "output_type": "display_data"
    },
    {
     "data": {
      "text/plain": [
       "{B_x: sqrt(-B_Q**2/2 - sqrt(B_Q**4 + 4*B_U**4)/2)*(B_Q**2/2 - sqrt(B_Q**4 + 4*B_U**4)/2)/B_U**2,\n",
       " B_y: sqrt(-B_Q**2/2 - sqrt(B_Q**4 + 4*B_U**4)/2)}"
      ]
     },
     "metadata": {},
     "output_type": "display_data"
    },
    {
     "data": {
      "text/plain": [
       "{B_x: -sqrt(-B_Q**2/2 + sqrt(B_Q**4 + 4*B_U**4)/2)*(B_Q**2/2 + sqrt(B_Q**4 + 4*B_U**4)/2)/B_U**2,\n",
       " B_y: -sqrt(-B_Q**2/2 + sqrt(B_Q**4 + 4*B_U**4)/2)}"
      ]
     },
     "metadata": {},
     "output_type": "display_data"
    },
    {
     "data": {
      "text/plain": [
       "{B_x: sqrt(-B_Q**2/2 + sqrt(B_Q**4 + 4*B_U**4)/2)*(B_Q**2/2 + sqrt(B_Q**4 + 4*B_U**4)/2)/B_U**2,\n",
       " B_y: sqrt(-B_Q**2/2 + sqrt(B_Q**4 + 4*B_U**4)/2)}"
      ]
     },
     "metadata": {},
     "output_type": "display_data"
    }
   ],
   "source": [
    "# SymPy code to solve for B_x and B_y in terms of B_Q and B_U\n",
    "# Handle absolute value and sign explicitly\n",
    "\n",
    "from sympy import symbols, Eq, sqrt, solve, latex, Abs, sign\n",
    "\n",
    "# Define symbolic variables\n",
    "B_Q, B_U, B_x, B_y = symbols('B_Q B_U B_x B_y', real=True)\n",
    "\n",
    "# Define the equations without Abs and sign (we handle them manually)\n",
    "# Original equations:\n",
    "# B_Q = sign(B_x^2 - B_y^2) * |B_x^2 - B_y^2|^(1/2)\n",
    "# B_U = sign(B_x * B_y) * |B_x * B_y|^(1/2)\n",
    "\n",
    "# Square both equations to eliminate square roots and signs\n",
    "# B_Q^2 = (B_x^2 - B_y^2) * sign(B_x^2 - B_y^2)^2\n",
    "# B_U^2 = |B_x * B_y|\n",
    "\n",
    "# Since sign(x)^2 = 1 for x != 0, and |x| = sqrt(x^2), we can rewrite:\n",
    "eq1_squared = Eq(B_Q**2, (B_x**2 - B_y**2))\n",
    "eq2_squared = Eq(B_U**2, (B_x * B_y))\n",
    "\n",
    "# Display the squared equations in LaTeX\n",
    "print(\"Squared Equation 1:\")\n",
    "display(eq1_squared)\n",
    "\n",
    "print(\"Squared Equation 2:\")\n",
    "display(eq2_squared)\n",
    "\n",
    "# Solve the squared equations for B_x and B_y\n",
    "solutions = solve([eq1_squared, eq2_squared], (B_x, B_y), dict=True)\n",
    "\n",
    "# Display the solutions in LaTeX\n",
    "print(\"\\nSolutions:\")\n",
    "for sol in solutions:\n",
    "    display(sol)"
   ]
  },
  {
   "cell_type": "code",
   "execution_count": 15,
   "id": "8880aed7-e8b8-48b3-a5fe-9fec4f64cf04",
   "metadata": {},
   "outputs": [
    {
     "name": "stdout",
     "output_type": "stream",
     "text": [
      "\\left\\{ B_{x} : - \\frac{\\sqrt{- \\frac{B_{Q}^{2}}{2} - \\frac{\\sqrt{B_{Q}^{4} + 4 B_{U}^{4}}}{2}} \\left(\\frac{B_{Q}^{2}}{2} - \\frac{\\sqrt{B_{Q}^{4} + 4 B_{U}^{4}}}{2}\\right)}{B_{U}^{2}}, \\  B_{y} : - \\sqrt{- \\frac{B_{Q}^{2}}{2} - \\frac{\\sqrt{B_{Q}^{4} + 4 B_{U}^{4}}}{2}}\\right\\}\n",
      "\n",
      "\n",
      "\\left\\{ B_{x} : \\frac{\\sqrt{- \\frac{B_{Q}^{2}}{2} - \\frac{\\sqrt{B_{Q}^{4} + 4 B_{U}^{4}}}{2}} \\left(\\frac{B_{Q}^{2}}{2} - \\frac{\\sqrt{B_{Q}^{4} + 4 B_{U}^{4}}}{2}\\right)}{B_{U}^{2}}, \\  B_{y} : \\sqrt{- \\frac{B_{Q}^{2}}{2} - \\frac{\\sqrt{B_{Q}^{4} + 4 B_{U}^{4}}}{2}}\\right\\}\n",
      "\n",
      "\n",
      "\\left\\{ B_{x} : - \\frac{\\sqrt{- \\frac{B_{Q}^{2}}{2} + \\frac{\\sqrt{B_{Q}^{4} + 4 B_{U}^{4}}}{2}} \\left(\\frac{B_{Q}^{2}}{2} + \\frac{\\sqrt{B_{Q}^{4} + 4 B_{U}^{4}}}{2}\\right)}{B_{U}^{2}}, \\  B_{y} : - \\sqrt{- \\frac{B_{Q}^{2}}{2} + \\frac{\\sqrt{B_{Q}^{4} + 4 B_{U}^{4}}}{2}}\\right\\}\n",
      "\n",
      "\n",
      "\\left\\{ B_{x} : \\frac{\\sqrt{- \\frac{B_{Q}^{2}}{2} + \\frac{\\sqrt{B_{Q}^{4} + 4 B_{U}^{4}}}{2}} \\left(\\frac{B_{Q}^{2}}{2} + \\frac{\\sqrt{B_{Q}^{4} + 4 B_{U}^{4}}}{2}\\right)}{B_{U}^{2}}, \\  B_{y} : \\sqrt{- \\frac{B_{Q}^{2}}{2} + \\frac{\\sqrt{B_{Q}^{4} + 4 B_{U}^{4}}}{2}}\\right\\}\n",
      "\n",
      "\n"
     ]
    }
   ],
   "source": [
    "for sol in solutions:\n",
    "    print(latex(sol))\n",
    "    print(\"\\n\")"
   ]
  },
  {
   "cell_type": "markdown",
   "id": "84f1446c-939c-491e-a99b-decc54ea2f6f",
   "metadata": {},
   "source": [
    "\\begin{equation}\n",
    "\\left| -B_{x}^{2} + B_{y}^{2} \\right| \\mathrm{sgn}\\left(-B_{x}^{2} + B_{y}^{2}\\right)^{2}\n",
    "\\end{equation}"
   ]
  },
  {
   "cell_type": "markdown",
   "id": "87ea7cd0-cec4-4671-9650-c7f8bb4ce5d1",
   "metadata": {},
   "source": [
    "$-B_{x}^{2} + B_{y}^{2} $"
   ]
  },
  {
   "cell_type": "code",
   "execution_count": 5,
   "id": "d33871da-95c6-4371-aad8-81aedec02b25",
   "metadata": {},
   "outputs": [
    {
     "data": {
      "text/plain": [
       "{B_U: -sqrt(abs(B_x)*abs(B_y))*sgn(B_x)*sgn(B_y),\n",
       " B_Q: -sqrt(abs(-B_x^2 + B_y^2))*sgn(-B_x^2 + B_y^2)}"
      ]
     },
     "execution_count": 5,
     "metadata": {},
     "output_type": "execute_result"
    }
   ],
   "source": [
    "solutions[0]"
   ]
  },
  {
   "cell_type": "markdown",
   "id": "7d7fb7b2-7dd3-4f04-9618-5af57ca47746",
   "metadata": {},
   "source": [
    "$\n",
    "\\left\\{ B_{x} : - \\frac{\\sqrt{- \\frac{B_{Q}^{2}}{2} - \\frac{\\sqrt{B_{Q}^{4} + 4 B_{U}^{4}}}{2}} \\left(\\frac{B_{Q}^{2}}{2} - \\frac{\\sqrt{B_{Q}^{4} + 4 B_{U}^{4}}}{2}\\right)}{B_{U}^{2}}, \\  B_{y} : - \\sqrt{- \\frac{B_{Q}^{2}}{2} - \\frac{\\sqrt{B_{Q}^{4} + 4 B_{U}^{4}}}{2}}\\right\\}$\n",
    "\n",
    "$\n",
    "\\left\\{ B_{x} : \\frac{\\sqrt{- \\frac{B_{Q}^{2}}{2} - \\frac{\\sqrt{B_{Q}^{4} + 4 B_{U}^{4}}}{2}} \\left(\\frac{B_{Q}^{2}}{2} - \\frac{\\sqrt{B_{Q}^{4} + 4 B_{U}^{4}}}{2}\\right)}{B_{U}^{2}}, \\  B_{y} : \\sqrt{- \\frac{B_{Q}^{2}}{2} - \\frac{\\sqrt{B_{Q}^{4} + 4 B_{U}^{4}}}{2}}\\right\\}\n",
    "$\n",
    "\n",
    "$\n",
    "\\left\\{ B_{x} : - \\frac{\\sqrt{- \\frac{B_{Q}^{2}}{2} + \\frac{\\sqrt{B_{Q}^{4} + 4 B_{U}^{4}}}{2}} \\left(\\frac{B_{Q}^{2}}{2} + \\frac{\\sqrt{B_{Q}^{4} + 4 B_{U}^{4}}}{2}\\right)}{B_{U}^{2}}, \\  B_{y} : - \\sqrt{- \\frac{B_{Q}^{2}}{2} + \\frac{\\sqrt{B_{Q}^{4} + 4 B_{U}^{4}}}{2}}\\right\\}\n",
    "$\n",
    "\n",
    "\n",
    "$\n",
    "\\left\\{ B_{x} : \\frac{\\sqrt{- \\frac{B_{Q}^{2}}{2} + \\frac{\\sqrt{B_{Q}^{4} + 4 B_{U}^{4}}}{2}} \\left(\\frac{B_{Q}^{2}}{2} + \\frac{\\sqrt{B_{Q}^{4} + 4 B_{U}^{4}}}{2}\\right)}{B_{U}^{2}}, \\  B_{y} : \\sqrt{- \\frac{B_{Q}^{2}}{2} + \\frac{\\sqrt{B_{Q}^{4} + 4 B_{U}^{4}}}{2}}\\right\\}\n",
    "$"
   ]
  }
 ],
 "metadata": {
  "kernelspec": {
   "display_name": "Python 3 (ipykernel)",
   "language": "python",
   "name": "python3"
  },
  "language_info": {
   "codemirror_mode": {
    "name": "ipython",
    "version": 3
   },
   "file_extension": ".py",
   "mimetype": "text/x-python",
   "name": "python",
   "nbconvert_exporter": "python",
   "pygments_lexer": "ipython3",
   "version": "3.13.1"
  }
 },
 "nbformat": 4,
 "nbformat_minor": 5
}
